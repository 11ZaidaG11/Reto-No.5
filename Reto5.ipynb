{
 "cells": [
  {
   "cell_type": "markdown",
   "metadata": {
    "id": "9B25yLcahHb-"
   },
   "source": [
    "1. Dado la figura de la imagen, desarrolle:\n",
    "\n",
    "- Una función matemática para calcular el volumen y el área superficial.\n",
    "- Cree dos funciones en python para calcular los valores antes establecidos, al ingresar por teclado `r1`, `r2` y `h`.\n",
    "- Revise como utilizar el valor de `pi` usando *import math* y *math.pi*"
   ]
  },
  {
   "cell_type": "code",
   "execution_count": 5,
   "metadata": {
    "colab": {
     "base_uri": "https://localhost:8080/"
    },
    "id": "WJ5-HhBOhHcD",
    "outputId": "16cb110a-f9ac-41d7-ee81-975192fe36a4"
   },
   "outputs": [
    {
     "name": "stdout",
     "output_type": "stream",
     "text": [
      "Su volumen es: 16600.175581568466\n",
      "Su area superficial es: 822.6868082335727\n"
     ]
    }
   ],
   "source": [
    "import math\n",
    "\n",
    "\n",
    "def calculo_volumen(radio_esfera:float, radio_cono:float, altura:float):\n",
    "  volumen_esfera = (4/3) * math.pi * (radio_esfera**3)\n",
    "  volumen_cono = (1/3) * math.pi * (radio_cono**2) * altura\n",
    "  volumen_total = volumen_esfera + volumen_cono\n",
    "  return volumen_total\n",
    "\n",
    "def calculo_area(radio_esfera:float, radio_cono:float, altura:float):\n",
    "  inclinacion = math.sqrt((radio_cono**2) + (altura**2)) # Teorema de pitagoras\n",
    "  area_cono = math.pi * (radio_cono**2) + inclinacion\n",
    "  area_esfera = 4 * math.pi * radio_esfera\n",
    "  area_total = area_cono + area_esfera\n",
    "  return area_total\n",
    "\n",
    "def calculo_total(radio_esfera:float, radio_cono:float, altura:float):\n",
    "  volumen = calculo_volumen(radio_esfera, radio_cono, altura)\n",
    "  area = calculo_area(radio_esfera, radio_cono, altura)\n",
    "  return volumen, area\n",
    "\n",
    "if __name__ == \"__main__\":\n",
    "  radio_esfera = float(input(\"Ingrese el radio de la esfera: \"))\n",
    "  radio_cono = float(input(\"Ingrese el radio del cono: \"))\n",
    "  altura = float(input(\"Ingrese la altura del cono: \"))\n",
    "  res_volumen, res_area = calculo_total(radio_esfera, radio_cono, altura)\n",
    "\n",
    "\n",
    "  print(f\"Su volumen es: {res_volumen}\")\n",
    "  print(f\"Su area superficial es: {res_area}\")\n"
   ]
  },
  {
   "cell_type": "markdown",
   "metadata": {
    "id": "dGaTwYMDhHcE"
   },
   "source": [
    "2. Dado la figura de la imagen, desarrolle:\n",
    "\n",
    "- Una función matemática para calcular el área y el perimetro.\n",
    "- Cree dos funciones en python para calcular los valores antes establecidos, al ingresar por teclado `r`, `a` y `b`.\n",
    "- Revise como utilizar el valor de `pi` usando *import math* y *math.pi*"
   ]
  },
  {
   "cell_type": "code",
   "execution_count": null,
   "metadata": {
    "id": "qnoL0UHIhHcF"
   },
   "outputs": [
    {
     "name": "stdout",
     "output_type": "stream",
     "text": [
      "El area es:  4750.884720466198\n",
      "El perimetro es: 441.89378290154264\n"
     ]
    }
   ],
   "source": [
    "import math\n",
    "\n",
    "\n",
    "def calculo_area(longitud_rec:float, altura_rec:float, radio:float):\n",
    "  area = (longitud_rec * altura_rec) + 2 * (math.pi * (radio**2)) # Area = area rectangulo + 2 * area circulo\n",
    "  return area\n",
    "\n",
    "def calculo_perimetro(longitud_rec:float, altura_rec:float, radio:float):\n",
    "  perimetro = 2 * longitud_rec + 2 * altura_rec + 2 * math.pi * radio * 2 # Perimetro = perimetro rectangulo + 2 * perimetro circulo\n",
    "  return perimetro\n",
    "\n",
    "def calculo_total(longitud_rec:float, altura_rec:float, radio:float): # Función que llama al calculo de area y perimetro\n",
    "  area_total = calculo_area(longitud_rec, altura_rec, radio)\n",
    "  perimetro_total = calculo_perimetro(longitud_rec, altura_rec, radio)\n",
    "  return area_total, perimetro_total\n",
    "\n",
    "if __name__ == \"__main__\":\n",
    "  longitud_rec = float(input(\"Ingrese la longuitud del rectangulo: \"))\n",
    "  altura_rec = float(input(\"Ingrese la altura de del rectangulo: \"))\n",
    "  radio = float(input(\"Ingrese el radio de los circulos: \"))\n",
    "  resultado_area, resultado_perimetro = calculo_total(longitud_rec, altura_rec, radio)\n",
    "\n",
    "  print(f\"El area es:  {resultado_area}\")\n",
    "  print(f\"El perimetro es: {resultado_perimetro}\")"
   ]
  },
  {
   "cell_type": "markdown",
   "metadata": {
    "id": "U2qQkya1hHcG"
   },
   "source": [
    "3. Diseñe una función que calcule la cantidad de carne de aves en kilos si se tienen N gallinas, M gallos y K pollitos cada uno pesando 6 kilos, 7 kilos y 1 kilo respectivamente."
   ]
  },
  {
   "cell_type": "code",
   "execution_count": null,
   "metadata": {
    "id": "oyoAOTMMhHcG",
    "outputId": "04b25f83-1298-4eb2-cd0c-6c2d3a32823f"
   },
   "outputs": [
    {
     "name": "stdout",
     "output_type": "stream",
     "text": [
      "Los animales pesan: 556 kg\n"
     ]
    }
   ],
   "source": [
    "# Peso por animal en Kg\n",
    "peso_N = 6\n",
    "peso_M = 7\n",
    "peso_K = 1\n",
    "\n",
    "def calculo_peso(N:int, M:int, K:int):\n",
    "    peso_total = (N*peso_N)+(M*peso_M)+(K*peso_K)\n",
    "    return peso_total\n",
    "\n",
    "if __name__ == \"__main__\":\n",
    "    # Cantidad de animales\n",
    "    N = int(input(\"¿Cuantas gallinas?: \"))\n",
    "    M = int(input(\"¿Cuantos gallos?: \"))\n",
    "    K = int(input(\"¿Cuantos pollitos?: \"))\n",
    "    resultado = calculo_peso(N, M, K)\n",
    "\n",
    "    print(f\"Los animales pesan: {resultado} kg\")"
   ]
  },
  {
   "cell_type": "markdown",
   "metadata": {
    "id": "mGfIn5NehHcI"
   },
   "source": [
    "4. Haga un programa que utilice una función para calcular el valor de un préstamo `C` usando interés compuesto del `i` por `n` meses."
   ]
  },
  {
   "cell_type": "code",
   "execution_count": null,
   "metadata": {
    "id": "rtmjwyWBhHcJ"
   },
   "outputs": [
    {
     "name": "stdout",
     "output_type": "stream",
     "text": [
      "El total a pagar es: 111858.81167165903\n"
     ]
    }
   ],
   "source": [
    "def calculo_interes():\n",
    "    pago_mensual = capital_inicial * tasa_mensual * ((1 + tasa_mensual) ** meses) / ((1+ tasa_mensual) ** meses - 1)\n",
    "    pago_total = pago_mensual * meses \n",
    "    return pago_total\n",
    "\n",
    "if __name__ == \"__main__\":\n",
    "    capital_inicial = float(input(\"Ingrese el capital inicial del prestamo: \"))\n",
    "    tasa_interes = float(input(\"Ingrese la tasa de interes anual: \"))\n",
    "    meses = int(input(\"Ingrese los meses de pago del prestamo: \"))\n",
    "\n",
    "    porcentaje_tasa = tasa_interes / 100 # Hallar porcentaje\n",
    "    tasa_mensual = porcentaje_tasa / 12 # Tasa por mes\n",
    "\n",
    "    resultado = calculo_interes()\n",
    "    print(f\"El total a pagar es: {resultado} pesos\")"
   ]
  },
  {
   "cell_type": "markdown",
   "metadata": {
    "id": "NpvRgzqDhHcK"
   },
   "source": [
    "5. Escriba un programa que pida 5 números reales y calcule las siguientes operaciones usando una función para cada una:\n",
    "- El promedio\n",
    "- El promedio multiplicativo (multiplica todos y luego calcula la raíz de la cantidad de operandos)\n",
    "- La potencia del mayor número elevado al menor número\n",
    "- La raíz cúbica del menor número"
   ]
  },
  {
   "cell_type": "code",
   "execution_count": null,
   "metadata": {
    "id": "w5Mvhg_NhHcL"
   },
   "outputs": [
    {
     "name": "stdout",
     "output_type": "stream",
     "text": [
      "Ingrese 5 numeros: \n",
      "1\n",
      "2\n",
      "3\n",
      "4\n",
      "5\n",
      "<class 'int'>\n"
     ]
    },
    {
     "ename": "TypeError",
     "evalue": "unsupported operand type(s) for +: 'int' and 'str'",
     "output_type": "error",
     "traceback": [
      "\u001b[1;31m---------------------------------------------------------------------------\u001b[0m",
      "\u001b[1;31mTypeError\u001b[0m                                 Traceback (most recent call last)",
      "Cell \u001b[1;32mIn[7], line 35\u001b[0m\n\u001b[0;32m     32\u001b[0m   \u001b[38;5;28mprint\u001b[39m(numero_ingresado)\n\u001b[0;32m     33\u001b[0m \u001b[38;5;28mprint\u001b[39m (\u001b[38;5;28mtype\u001b[39m(\u001b[38;5;28mlen\u001b[39m(numeros)))\n\u001b[1;32m---> 35\u001b[0m promedio_num \u001b[38;5;241m=\u001b[39m \u001b[43mpromedio\u001b[49m\u001b[43m(\u001b[49m\u001b[43mnumeros\u001b[49m\u001b[43m)\u001b[49m\n\u001b[0;32m     36\u001b[0m promedio_multiplicativo_num \u001b[38;5;241m=\u001b[39m promedio_multiplicativo(numeros)\n\u001b[0;32m     37\u001b[0m potencia_num \u001b[38;5;241m=\u001b[39m potencia_mayor(numeros)\n",
      "Cell \u001b[1;32mIn[7], line 5\u001b[0m, in \u001b[0;36mpromedio\u001b[1;34m(numeros)\u001b[0m\n\u001b[0;32m      4\u001b[0m \u001b[38;5;28;01mdef\u001b[39;00m \u001b[38;5;21mpromedio\u001b[39m(numeros:\u001b[38;5;28mlist\u001b[39m[\u001b[38;5;28mfloat\u001b[39m]):\n\u001b[1;32m----> 5\u001b[0m   prom \u001b[38;5;241m=\u001b[39m \u001b[38;5;28;43msum\u001b[39;49m\u001b[43m(\u001b[49m\u001b[43mnumeros\u001b[49m\u001b[43m)\u001b[49m \u001b[38;5;241m/\u001b[39m \u001b[38;5;28mlen\u001b[39m(numeros)\n\u001b[0;32m      6\u001b[0m   \u001b[38;5;28;01mreturn\u001b[39;00m prom\n",
      "\u001b[1;31mTypeError\u001b[0m: unsupported operand type(s) for +: 'int' and 'str'"
     ]
    }
   ],
   "source": [
    "import math\n",
    "\n",
    "\n",
    "def promedio(numeros:list[float]):\n",
    "  prom = sum(numeros) / len(numeros)\n",
    "  return prom\n",
    "\n",
    "def promedio_multiplicativo(numeros:list[float]):\n",
    "  producto = math.prod(numeros)\n",
    "  raiz = producto ** (1 / len(numeros)) # Raiz de la cantidad de elementos\n",
    "  return raiz\n",
    "\n",
    "def potencia_mayor(numeros:list[float]):\n",
    "  maximo = max(numeros)\n",
    "  minimo = min(numeros)\n",
    "  potencia = maximo ** minimo\n",
    "  return maximo, minimo, potencia\n",
    "\n",
    "def raiz_menor(numeros:list[float]):\n",
    "  minimo = min(numeros)\n",
    "  raiz_cubica = minimo ** (1/3) # Raiz cubica\n",
    "  return minimo, raiz_cubica\n",
    "\n",
    "if __name__ == \"__main__\":\n",
    "  print(\"Ingrese 5 numeros: \")\n",
    "  numeros = []\n",
    "  numeros : list[float]\n",
    "  for i in range (1, 6):\n",
    "    numero_ingresado = input(\"→ \")\n",
    "    numero_ingresado : float\n",
    "    numeros.append(numero_ingresado)\n",
    "    print(numero_ingresado)\n",
    "  \n",
    "  promedio_num = promedio(numeros)\n",
    "  promedio_multiplicativo_num = promedio_multiplicativo(numeros)\n",
    "  potencia_num = potencia_mayor(numeros)\n",
    "  raiz_num = raiz_menor(numeros)\n",
    "\n",
    "  print(f\"Promedio= {promedio_num}\")\n",
    "  print(f\"Promedio multiplicativo= {promedio_multiplicativo_num}\")\n",
    "  print(f\"{max(numeros)} ^ {min(numeros)} = {potencia_num}\")\n",
    "  print(f\"{min(numeros)} ^ 1/3 = {raiz_num}\")"
   ]
  }
 ],
 "metadata": {
  "colab": {
   "provenance": [],
   "toc_visible": true
  },
  "kernelspec": {
   "display_name": "Python 3",
   "language": "python",
   "name": "python3"
  },
  "language_info": {
   "codemirror_mode": {
    "name": "ipython",
    "version": 3
   },
   "file_extension": ".py",
   "mimetype": "text/x-python",
   "name": "python",
   "nbconvert_exporter": "python",
   "pygments_lexer": "ipython3",
   "version": "3.12.6"
  }
 },
 "nbformat": 4,
 "nbformat_minor": 0
}
